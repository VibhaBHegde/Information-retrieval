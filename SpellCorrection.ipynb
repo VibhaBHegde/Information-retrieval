{
 "cells": [
  {
   "cell_type": "markdown",
   "id": "2e0bed5e",
   "metadata": {},
   "source": [
    "### SPELL CORRECTION - USING EDIT DISTANCE"
   ]
  },
  {
   "cell_type": "code",
   "execution_count": 16,
   "id": "3b611c12",
   "metadata": {},
   "outputs": [],
   "source": [
    "import enchant\n",
    "import nltk\n",
    "from nltk.metrics import edit_distance"
   ]
  },
  {
   "cell_type": "code",
   "execution_count": 17,
   "id": "a50da89e",
   "metadata": {},
   "outputs": [],
   "source": [
    "#Load the English dictionary\n",
    "dictionary = enchant.Dict(\"en_US\")"
   ]
  },
  {
   "cell_type": "code",
   "execution_count": 18,
   "id": "dce2d6e6",
   "metadata": {},
   "outputs": [],
   "source": [
    "# Function to perform spell correction and identify misspelled words\n",
    "def spell_correction_with_misspelled_words(text):\n",
    "    corrected_text = []\n",
    "    misspelled_words = []\n",
    "    \n",
    "    # Tokenization: convert text into words\n",
    "    words = nltk.word_tokenize(text)\n",
    "    \n",
    "    for word in words:\n",
    "        \n",
    "        # Check if the word is in the dictionary\n",
    "        if not dictionary.check(word):\n",
    "            \n",
    "            misspelled_words.append(word)\n",
    "            \n",
    "            # EDIT DISTANCE : Find the closest words\n",
    "            suggestions = dictionary.suggest(word)\n",
    "            \n",
    "            if suggestions:\n",
    "                \n",
    "                # Choose the suggestion with the MINIMUM EDIT DISTANCE\n",
    "                best_suggestion = min(suggestions, key=lambda x: edit_distance(word, x))\n",
    "                corrected_text.append(best_suggestion)\n",
    "                \n",
    "            else:\n",
    "                # If no suggestions, keep the original word\n",
    "                corrected_text.append(word)\n",
    "        else:\n",
    "            # If the word is in the dictionary, keep it as is\n",
    "            corrected_text.append(word)\n",
    "    \n",
    "    return ' '.join(corrected_text), misspelled_words\n"
   ]
  },
  {
   "cell_type": "code",
   "execution_count": 20,
   "id": "4e986d21",
   "metadata": {},
   "outputs": [
    {
     "name": "stdout",
     "output_type": "stream",
     "text": [
      "Original text: This is the implementaon of spelling corrtion.\n",
      "Corrected text: This is the implementation of spelling correction .\n",
      "Misspelled words: ['implementaon', 'corrtion']\n",
      "\n",
      "Original text: He is good in mathematis.\n",
      "Corrected text: He is good in mathematics .\n",
      "Misspelled words: ['mathematis']\n",
      "\n",
      "Original text: The car is parked in the parkng area.\n",
      "Corrected text: The car is parked in the parking area .\n",
      "Misspelled words: ['parkng']\n",
      "\n",
      "Original text: She is readng a book.\n",
      "Corrected text: She is reading a book .\n",
      "Misspelled words: ['readng']\n",
      "\n",
      "Original text: The house is big and beautifl.\n",
      "Corrected text: The house is big and beautiful .\n",
      "Misspelled words: ['beautifl']\n",
      "\n",
      "Original text: I want to eat a delicios pizza.\n",
      "Corrected text: I want to eat a delicious pizza .\n",
      "Misspelled words: ['delicios']\n",
      "\n",
      "Original text: He is profecient in his proffession.\n",
      "Corrected text: He is proficient in his profession .\n",
      "Misspelled words: ['profecient', 'proffession']\n",
      "\n",
      "Original text: The athorities have annouced the requirred measures.\n",
      "Corrected text: The authorities have announced the required measures .\n",
      "Misspelled words: ['athorities', 'annouced', 'requirred']\n",
      "\n",
      "Original text: Their is a temparature rise expected tomorow.\n",
      "Corrected text: Their is a temperature rise expected tomorrow .\n",
      "Misspelled words: ['temparature', 'tomorow']\n",
      "\n",
      "Original text: I have recived your email and will reply shortely.\n",
      "Corrected text: I have revived your email and will reply shortly .\n",
      "Misspelled words: ['recived', 'shortely']\n",
      "\n",
      "Original text: The construction work is progessing well.\n",
      "Corrected text: The construction work is professing well .\n",
      "Misspelled words: ['progessing']\n",
      "\n",
      "Original text: She is pefrming an experiment in the laboratory.\n",
      "Corrected text: She is perming an experiment in the laboratory .\n",
      "Misspelled words: ['pefrming']\n",
      "\n",
      "Original text: He is a particpant in the upcoming compitition.\n",
      "Corrected text: He is a participant in the upcoming competition .\n",
      "Misspelled words: ['particpant', 'compitition']\n",
      "\n"
     ]
    }
   ],
   "source": [
    "# Example sentences with Spelling mistakes:\n",
    "texts = [\n",
    "    \"This is the implementaon of spelling corrtion.\",\n",
    "    \"He is good in mathematis.\",\n",
    "    \"The car is parked in the parkng area.\",\n",
    "    \"She is readng a book.\",\n",
    "    \"The house is big and beautifl.\",\n",
    "    \"I want to eat a delicios pizza.\",\n",
    "    \"He is profecient in his proffession.\",\n",
    "    \"The athorities have annouced the requirred measures.\",\n",
    "    \"Their is a temparature rise expected tomorow.\",\n",
    "    \"I have recived your email and will reply shortely.\",\n",
    "    \"The construction work is progessing well.\",\n",
    "    \"She is pefrming an experiment in the laboratory.\",\n",
    "    \"He is a particpant in the upcoming compitition.\"\n",
    "]\n",
    "\n",
    "for text in texts:\n",
    "    corrected_text, misspelled_words = spell_correction_with_misspelled_words(text)\n",
    "    print(\"Original text:\", text)\n",
    "    print(\"Corrected text:\", corrected_text)\n",
    "    print(\"Misspelled words:\", misspelled_words)\n",
    "    print()"
   ]
  },
  {
   "cell_type": "markdown",
   "id": "109feac3",
   "metadata": {},
   "source": [
    "### STEPS IN SPELL CORRECTION:\n",
    "   "
   ]
  },
  {
   "cell_type": "markdown",
   "id": "546f3ff1",
   "metadata": {},
   "source": [
    "   **1. Load the English dictionary for reference.**\n",
    "   \n",
    "   **2. Perform TOKENIZATION : Convert input text to tokens/words.**\n",
    "    \n",
    "   **3. For each word, check if it present in the English dictionary.**\n",
    "    \n",
    "       3a) If the word is NOT FOUND (It's considered misspelled):\n",
    "              --> Retrieve a list of suggestions from the dictionary, for correcting the misspelled word.\n",
    "              --> If suggestions are available:\n",
    "                   - Select the best suggestion. i.e choose the selection with minimum edit distance .\n",
    "                   - The best suggestion is appended to the 'corrected_text' list.\n",
    "              --> If suggestions are not available:\n",
    "                   - The original misspelled word is simply appended to the corrected_text list without any correction.\n",
    "         \n",
    "        3b) If the word is FOUND (Word is not misspelled):\n",
    "              --> Word is simply appended to the 'corrected_text' list without any correction.\n",
    "            \n",
    "   **4. Print the Original text, Corrected text and Misspelled words**"
   ]
  },
  {
   "cell_type": "code",
   "execution_count": null,
   "id": "3a5166ad",
   "metadata": {},
   "outputs": [],
   "source": []
  }
 ],
 "metadata": {
  "kernelspec": {
   "display_name": "Python 3 (ipykernel)",
   "language": "python",
   "name": "python3"
  },
  "language_info": {
   "codemirror_mode": {
    "name": "ipython",
    "version": 3
   },
   "file_extension": ".py",
   "mimetype": "text/x-python",
   "name": "python",
   "nbconvert_exporter": "python",
   "pygments_lexer": "ipython3",
   "version": "3.11.4"
  }
 },
 "nbformat": 4,
 "nbformat_minor": 5
}
