{
 "cells": [
  {
   "cell_type": "markdown",
   "id": "726af426",
   "metadata": {},
   "source": [
    "#### VECTOR SPACE MODEL\n",
    "Develop an IR system which would be based on the vector space model.\n",
    "\n",
    "The system has to return the top k documents in response to the user query.\n",
    "\n",
    "Use the publicly available datasets for the purpose and to test the system."
   ]
  },
  {
   "cell_type": "code",
   "execution_count": 1,
   "id": "81bd18fc",
   "metadata": {},
   "outputs": [],
   "source": [
    "import nltk\n",
    "from nltk.corpus import reuters\n",
    "from sklearn.feature_extraction.text import TfidfVectorizer\n",
    "from sklearn.metrics.pairwise import cosine_similarity"
   ]
  },
  {
   "cell_type": "markdown",
   "id": "57af18ac",
   "metadata": {},
   "source": [
    "### DATASET USED : Reuters-21578"
   ]
  },
  {
   "cell_type": "code",
   "execution_count": 3,
   "id": "1ccd79fb",
   "metadata": {},
   "outputs": [
    {
     "name": "stderr",
     "output_type": "stream",
     "text": [
      "[nltk_data] Downloading package reuters to\n",
      "[nltk_data]     C:\\Users\\Admin\\AppData\\Roaming\\nltk_data...\n",
      "[nltk_data]   Package reuters is already up-to-date!\n"
     ]
    }
   ],
   "source": [
    "# Reuters-21578 dataset\n",
    "nltk.download('reuters')\n",
    "\n",
    "# Access documents from the Reuters-21578 corpus\n",
    "documents = reuters.fileids()\n"
   ]
  },
  {
   "cell_type": "markdown",
   "id": "a1968d0d",
   "metadata": {},
   "source": [
    "### QUERY : 'crude oil prices'"
   ]
  },
  {
   "cell_type": "code",
   "execution_count": null,
   "id": "27c8cf10",
   "metadata": {},
   "outputs": [],
   "source": [
    "# User query\n",
    "query = \"crude oil prices\""
   ]
  },
  {
   "cell_type": "markdown",
   "id": "335cb4d9",
   "metadata": {},
   "source": [
    "**Perform TOKENIZATION - Convert input text to tokens/words:**"
   ]
  },
  {
   "cell_type": "code",
   "execution_count": 4,
   "id": "32b91046",
   "metadata": {},
   "outputs": [
    {
     "name": "stderr",
     "output_type": "stream",
     "text": [
      "[nltk_data] Downloading package punkt to\n",
      "[nltk_data]     C:\\Users\\Admin\\AppData\\Roaming\\nltk_data...\n",
      "[nltk_data]   Package punkt is already up-to-date!\n"
     ]
    }
   ],
   "source": [
    "# Tokenization and preprocessing\n",
    "nltk.download('punkt')\n",
    "preprocessed_documents = [' '.join(reuters.words(file_id)) for file_id in documents]"
   ]
  },
  {
   "cell_type": "markdown",
   "id": "dccf2355",
   "metadata": {},
   "source": [
    "**TF-IDF VECTORIZATION -  Represent documents as numerical vectors:**"
   ]
  },
  {
   "cell_type": "code",
   "execution_count": 5,
   "id": "2e5f160c",
   "metadata": {},
   "outputs": [],
   "source": [
    "# TF-IDF Vectorization\n",
    "vectorizer = TfidfVectorizer()\n",
    "tfidf_matrix = vectorizer.fit_transform(preprocessed_documents)\n",
    "query_vector = vectorizer.transform([query])"
   ]
  },
  {
   "cell_type": "markdown",
   "id": "57c4217c",
   "metadata": {},
   "source": [
    "**COSINE SIMILARITY CALCULATION - Used to measures the similarity between two vectors by computing the cosine of the angle between them:**"
   ]
  },
  {
   "cell_type": "code",
   "execution_count": 6,
   "id": "a25285ff",
   "metadata": {},
   "outputs": [],
   "source": [
    "# Cosine Similarity Calculation\n",
    "cosine_similarities = cosine_similarity(query_vector, tfidf_matrix).flatten()"
   ]
  },
  {
   "cell_type": "markdown",
   "id": "257e6c47",
   "metadata": {},
   "source": [
    "**RANKING the documents based on their cosine similarity scores:**"
   ]
  },
  {
   "cell_type": "code",
   "execution_count": 7,
   "id": "58e3697b",
   "metadata": {},
   "outputs": [
    {
     "name": "stdout",
     "output_type": "stream",
     "text": [
      "Rank 1: Document 4718 - Similarity: 0.460174090990781\n",
      "Title: DIAMOND SHAMROCK (DIA) CUTS CRUDE PRICES\n",
      "  Diamond Shamrock Corp said that\n",
      "  effective today it had ...\n",
      "\n",
      "Rank 2: Document 1741 - Similarity: 0.43152384097126323\n",
      "Title: UNION PACIFIC &lt;UNP> RAISES CRUDE OIL PRICES\n",
      "  Union Pacific Resources, formerly\n",
      "  Champlin Petrol...\n",
      "\n",
      "Rank 3: Document 5684 - Similarity: 0.4299670269268614\n",
      "Title: DIAMOND SHAMROCK &lt;DIA> RAISES CRUDE OIL POSTINGS\n",
      "  Diamond Shamrock said it raised its\n",
      "  posted p...\n",
      "\n",
      "Rank 4: Document 6514 - Similarity: 0.4069576391740879\n",
      "Title: CONOCO RAISES CRUDE OIL PRICES UP TO ONE DLR BARREL, WTI AT 17.50 DLRS\n",
      "\n",
      "  CONOCO RAISES CRUDE OIL PR...\n",
      "\n",
      "Rank 5: Document 7856 - Similarity: 0.40545906027199896\n",
      "Title: UNOCAL &lt;UCL> UNIT CUTS CRUDE OIL POSTED PRICES\n",
      "  Unocal Corp's Union Oil Co said it\n",
      "  lowered its...\n",
      "\n"
     ]
    }
   ],
   "source": [
    "# Ranking\n",
    "k = 5  # Number of top documents to return\n",
    "top_indices = cosine_similarities.argsort()[-k:][::-1]\n",
    "\n",
    "# Output the top k documents\n",
    "for i, index in enumerate(top_indices):\n",
    "    print(f\"Rank {i+1}: Document {index+1} - Similarity: {cosine_similarities[index]}\")\n",
    "    print(f\"Title: {reuters.raw(documents[index])[:100]}...\")  # Displaying first 100 characters of the document\n",
    "    print()"
   ]
  },
  {
   "cell_type": "markdown",
   "id": "e555a0a3",
   "metadata": {},
   "source": [
    "### QUERY : 'medical research advancements'"
   ]
  },
  {
   "cell_type": "code",
   "execution_count": 8,
   "id": "1fd091c7",
   "metadata": {},
   "outputs": [
    {
     "name": "stderr",
     "output_type": "stream",
     "text": [
      "[nltk_data] Downloading package punkt to\n",
      "[nltk_data]     C:\\Users\\Admin\\AppData\\Roaming\\nltk_data...\n",
      "[nltk_data]   Package punkt is already up-to-date!\n"
     ]
    },
    {
     "name": "stdout",
     "output_type": "stream",
     "text": [
      "Rank 1: Document 9166 - Similarity: 0.20728071938985732\n",
      "Title: PESCH SEES SHAREHOLDER SUPPORT IN AMI &lt;AMI> BID\n",
      "  Chicago physician LeRoy Pesch said he\n",
      "  has had...\n",
      "\n",
      "Rank 2: Document 10664 - Similarity: 0.206784438279818\n",
      "Title: AMERICAN MEDICAL INTERNATIONAL INC 2ND QTR SHR PROFIT 32 CTS VS LOSS 95 CTS\n",
      "\n",
      "  AMERICAN MEDICAL INTE...\n",
      "\n",
      "Rank 3: Document 10343 - Similarity: 0.19551668067343334\n",
      "Title: UNITED MEDICAL &lt;UM> TO SELL UNIT\n",
      "  United Medical Corp said it\n",
      "  has reached a definitive agreeme...\n",
      "\n",
      "Rank 4: Document 189 - Similarity: 0.19517820607476374\n",
      "Title: FRONTIER INSURANCE &lt;FRTR> IN ACQUISITION TALKS\n",
      "  Frontier Insurance Group Inc\n",
      "  said it is curren...\n",
      "\n",
      "Rank 5: Document 2069 - Similarity: 0.19314426478046617\n",
      "Title: FRONTIER &lt;FRTR.O> BUYS MALPRACTICE BUSINESS\n",
      "  Frontier Insurance Group Inc\n",
      "  said it acquired the...\n",
      "\n"
     ]
    }
   ],
   "source": [
    "# User query\n",
    "query = \"medical research advancements\"\n",
    "\n",
    "# Tokenization and preprocessing\n",
    "nltk.download('punkt')\n",
    "preprocessed_documents = [' '.join(reuters.words(file_id)) for file_id in documents]\n",
    "\n",
    "# TF-IDF Vectorization\n",
    "vectorizer = TfidfVectorizer()\n",
    "tfidf_matrix = vectorizer.fit_transform(preprocessed_documents)\n",
    "query_vector = vectorizer.transform([query])\n",
    "\n",
    "# Cosine Similarity Calculation\n",
    "cosine_similarities = cosine_similarity(query_vector, tfidf_matrix).flatten()\n",
    "\n",
    "# Ranking\n",
    "k = 5  # Number of top documents to return\n",
    "top_indices = cosine_similarities.argsort()[-k:][::-1]\n",
    "\n",
    "# Output the top k documents\n",
    "for i, index in enumerate(top_indices):\n",
    "    print(f\"Rank {i+1}: Document {index+1} - Similarity: {cosine_similarities[index]}\")\n",
    "    print(f\"Title: {reuters.raw(documents[index])[:100]}...\")  # Displaying first 100 characters of the document\n",
    "    print()\n"
   ]
  },
  {
   "cell_type": "code",
   "execution_count": null,
   "id": "b4829be9",
   "metadata": {},
   "outputs": [],
   "source": []
  }
 ],
 "metadata": {
  "kernelspec": {
   "display_name": "Python 3 (ipykernel)",
   "language": "python",
   "name": "python3"
  },
  "language_info": {
   "codemirror_mode": {
    "name": "ipython",
    "version": 3
   },
   "file_extension": ".py",
   "mimetype": "text/x-python",
   "name": "python",
   "nbconvert_exporter": "python",
   "pygments_lexer": "ipython3",
   "version": "3.11.4"
  }
 },
 "nbformat": 4,
 "nbformat_minor": 5
}
